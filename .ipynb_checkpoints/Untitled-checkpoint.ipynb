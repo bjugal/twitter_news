{
 "cells": [
  {
   "cell_type": "code",
   "execution_count": 1,
   "metadata": {},
   "outputs": [],
   "source": [
    "## import tweepy, if it not installed try ! pip install tweepy\n",
    "import tweepy"
   ]
  },
  {
   "cell_type": "code",
   "execution_count": 2,
   "metadata": {},
   "outputs": [],
   "source": [
    "## authentication routine, sets keys of our app\n",
    "consumer_key = \"AxZVY6e2rAw2jxEVxULPjvRf3\"\n",
    "consumer_secret = \"Ejg0TJIhnbJlP31k9WI4hiX5x9KcBXpm8WXMZn90pQV6S15yfi\""
   ]
  },
  {
   "cell_type": "code",
   "execution_count": 3,
   "metadata": {},
   "outputs": [],
   "source": [
    "auth = tweepy.OAuthHandler(consumer_key, consumer_secret)"
   ]
  },
  {
   "cell_type": "code",
   "execution_count": 4,
   "metadata": {},
   "outputs": [],
   "source": [
    "try:\n",
    "    redirect_url = auth.get_authorization_url()\n",
    "except tweepy.TweepError:\n",
    "    print('Error! Failed to get request token.')"
   ]
  },
  {
   "cell_type": "code",
   "execution_count": 5,
   "metadata": {},
   "outputs": [],
   "source": [
    "token = auth.request_token"
   ]
  },
  {
   "cell_type": "code",
   "execution_count": 6,
   "metadata": {},
   "outputs": [
    {
     "name": "stdout",
     "output_type": "stream",
     "text": [
      "Error! Failed to get request token.\n"
     ]
    },
    {
     "data": {
      "text/plain": [
       "True"
      ]
     },
     "execution_count": 6,
     "metadata": {},
     "output_type": "execute_result"
    }
   ],
   "source": [
    "try:\n",
    "    redirect_url = auth.get_authorization_url()\n",
    "except tweepy.TweepError:\n",
    "    print('Error! Failed to get request token.')\n",
    "## to see if url works\n",
    "import webbrowser\n",
    "webbrowser.open(redirect_url)"
   ]
  },
  {
   "cell_type": "code",
   "execution_count": 7,
   "metadata": {},
   "outputs": [],
   "source": [
    "## A new browser window will open, authorize the app, you will have to authenticate the app and copy the code, in the actual project\n",
    "## we can actually use a get request to get the code programmatically.\n",
    "code = \"4457807\"  ## paste the code here, code differs everytime if a code pre-exists feel free to replace it"
   ]
  },
  {
   "cell_type": "code",
   "execution_count": 8,
   "metadata": {},
   "outputs": [
    {
     "data": {
      "text/plain": [
       "('695867665982820352-DSBktbxxYOl8L5kVwfedawdi7witFb3',\n",
       " 'IosvP2hzcPdWsqaiyA6WE7fRiCvN1u28t6KRSpX89prFG')"
      ]
     },
     "execution_count": 8,
     "metadata": {},
     "output_type": "execute_result"
    }
   ],
   "source": [
    "auth.get_access_token(code)"
   ]
  },
  {
   "cell_type": "code",
   "execution_count": 9,
   "metadata": {},
   "outputs": [],
   "source": [
    "auth.set_access_token(auth.access_token,auth.access_token_secret)"
   ]
  },
  {
   "cell_type": "code",
   "execution_count": 11,
   "metadata": {},
   "outputs": [
    {
     "name": "stdout",
     "output_type": "stream",
     "text": [
      "Announcing our #GitHubGameOff winners for 2018. \n",
      "Plus a few other entries that caught our attention.\n",
      "https://t.co/eDEv67e02i\n",
      "\"He's just a great lad to have next to you - I'm not sure he will say the same about me!\" 😂\n",
      "\n",
      "@andrewrobertso5 on pl… https://t.co/tsrO1IlfqG\n",
      "Watching Sword Art Online: Alicization at 12/? eps - https://t.co/a2Lz5ptmEX #animeplanet\n",
      "Update: Oppo and Razer have requested their trophies! Shipped! I'm expecting the last two (Apple and RED) to probab… https://t.co/IG9OUXjkOC\n",
      "\"Did I say stop? Keep scratching hooman!\" https://t.co/5z7a1DaFA5\n",
      "🎶 Test your tempo and coding skills 🎶\n",
      "\n",
      "Build a high-performance musical game app using the Android Oboe library and… https://t.co/3lQqkrGlg6\n",
      "Engineering is true magic\n",
      "RT @LeeCamp: New documents have revealed that US doctors participated in torture. \n",
      "We hanged Nazi doctors for doing that!\n",
      "https://t.co/GC9f…\n",
      "RT @btcven: @Nastyyas88 @Locha_io @Blockstream @gotenna @remyers_ @AltheaOrg @lightning @adam3us @giacomozucco @aantonop @AaronvanW @AlenaS…\n",
      "I wish all my videos views looked like this after a year and half \n",
      "\n",
      "This is from my AirPods review https://t.co/8nE4oCGLWG\n",
      "RT @SpaceX: Main engine cutoff and stage separation confirmed. Second stage engine burn underway. https://t.co/SxaPhVBnfH\n",
      "RT @SpaceX: Liftoff! https://t.co/pi78HVFs6J\n",
      "RT @SpaceX: T-60 seconds until launch → https://t.co/gtC39uBC7z https://t.co/EqtMTALs4X\n",
      "Six down, two to go in December... 👊 \n",
      "\n",
      "Another big week ahead, Reds. 🙌🔴 https://t.co/NQhdmnIUOY\n",
      "This is fine. https://t.co/XtuucceEdf\n",
      "Quiet but very visible progress on short-term scalability from @peter_szilagyi and co:\n",
      "\n",
      "* Blocks getting processed… https://t.co/WuxT3DVSlD\n",
      "#OnThisDay in 2⃣0⃣0⃣6⃣...\n",
      "\n",
      "Another @XabiAlonso special. 😍😍 https://t.co/JFA45Yvn1P\n",
      "“The most important game is your next game, you can only concentrate on one at a time.\"\n",
      "\n",
      "@JamesMilner is fully focu… https://t.co/Lq08ysxaB5\n",
      "Food is life\n",
      "So as dignity https://t.co/7595DkOCJx\n"
     ]
    }
   ],
   "source": [
    "## test, make sure it is able to retrieve tweets from your acc.\n",
    "api = api = tweepy.API(auth)\n",
    "public_tweets = api.home_timeline()\n",
    "for tweet in public_tweets:\n",
    "    print(tweet.text)"
   ]
  },
  {
   "cell_type": "code",
   "execution_count": null,
   "metadata": {},
   "outputs": [],
   "source": []
  }
 ],
 "metadata": {
  "kernelspec": {
   "display_name": "Python 3",
   "language": "python",
   "name": "python3"
  },
  "language_info": {
   "codemirror_mode": {
    "name": "ipython",
    "version": 3
   },
   "file_extension": ".py",
   "mimetype": "text/x-python",
   "name": "python",
   "nbconvert_exporter": "python",
   "pygments_lexer": "ipython3",
   "version": "3.6.5"
  }
 },
 "nbformat": 4,
 "nbformat_minor": 2
}
