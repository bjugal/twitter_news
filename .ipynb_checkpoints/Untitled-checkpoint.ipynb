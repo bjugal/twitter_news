{
 "cells": [
  {
   "cell_type": "code",
   "execution_count": 3,
   "metadata": {},
   "outputs": [],
   "source": [
    "## import tweepy, if it not installed try ! pip install tweepy\n",
    "import tweepy"
   ]
  },
  {
   "cell_type": "code",
   "execution_count": 4,
   "metadata": {},
   "outputs": [],
   "source": [
    "## authentication routine, sets keys of our app\n",
    "consumer_key = \"AxZVY6e2rAw2jxEVxULPjvRf3\"\n",
    "consumer_secret = \"Ejg0TJIhnbJlP31k9WI4hiX5x9KcBXpm8WXMZn90pQV6S15yfi\""
   ]
  },
  {
   "cell_type": "code",
   "execution_count": 5,
   "metadata": {},
   "outputs": [],
   "source": [
    "auth = tweepy.OAuthHandler(consumer_key, consumer_secret)"
   ]
  },
  {
   "cell_type": "code",
   "execution_count": 6,
   "metadata": {},
   "outputs": [],
   "source": [
    "try:\n",
    "    redirect_url = auth.get_authorization_url()\n",
    "except tweepy.TweepError:\n",
    "    print('Error! Failed to get request token.')"
   ]
  },
  {
   "cell_type": "code",
   "execution_count": 7,
   "metadata": {},
   "outputs": [],
   "source": [
    "token = auth.request_token"
   ]
  },
  {
   "cell_type": "code",
   "execution_count": 8,
   "metadata": {},
   "outputs": [
    {
     "name": "stdout",
     "output_type": "stream",
     "text": [
      "Error! Failed to get request token.\n"
     ]
    },
    {
     "data": {
      "text/plain": [
       "True"
      ]
     },
     "execution_count": 8,
     "metadata": {},
     "output_type": "execute_result"
    }
   ],
   "source": [
    "try:\n",
    "    redirect_url = auth.get_authorization_url()\n",
    "except tweepy.TweepError:\n",
    "    print('Error! Failed to get request token.')\n",
    "## to see if url works\n",
    "import webbrowser\n",
    "webbrowser.open(redirect_url)"
   ]
  },
  {
   "cell_type": "code",
   "execution_count": 9,
   "metadata": {},
   "outputs": [],
   "source": [
    "## A new browser window will open, authorize the app, you will have to authenticate the app and copy the code, in the actual project\n",
    "## we can actually use a get request to get the code programmatically.\n",
    "code = \"0331056\"  ## paste the code here, code differs everytime if a code pre-exists feel free to replace it"
   ]
  },
  {
   "cell_type": "code",
   "execution_count": 10,
   "metadata": {},
   "outputs": [
    {
     "data": {
      "text/plain": [
       "('695867665982820352-DSBktbxxYOl8L5kVwfedawdi7witFb3',\n",
       " 'IosvP2hzcPdWsqaiyA6WE7fRiCvN1u28t6KRSpX89prFG')"
      ]
     },
     "execution_count": 10,
     "metadata": {},
     "output_type": "execute_result"
    }
   ],
   "source": [
    "auth.get_access_token(code)"
   ]
  },
  {
   "cell_type": "code",
   "execution_count": 11,
   "metadata": {},
   "outputs": [],
   "source": [
    "auth.set_access_token(auth.access_token,auth.access_token_secret)"
   ]
  },
  {
   "cell_type": "code",
   "execution_count": 12,
   "metadata": {},
   "outputs": [
    {
     "name": "stdout",
     "output_type": "stream",
     "text": [
      "RT @NickSzabo4: Tim May was my chief cypherpunk inspiration. His vision is of a cyberspace free from government oppression. I was further b…\n",
      "RT @TraceMayer: A fun little video to remind people about #ProofOfKeys by the Hungry Hodler and music by @JoakimKarud.\n",
      "\n",
      "The moneybadger run…\n",
      "Stainless Steel Starship https://t.co/rRoiEKKrYc\n",
      "Six New Cryptocurrency ATM Machines Installed Every Day in 2018 \n",
      "@cryptocoinsnews\n",
      "https://t.co/1IyXPl0m7q\n",
      "Morning, Reds... 👋 \n",
      "\n",
      "Let's have another BIG week. 👊 \n",
      "\n",
      "#MondayMotivation https://t.co/t6asfdVBNS\n",
      "Fa la la la llama #Christmas https://t.co/wkustWwEoY\n",
      "ZTE to join the foldable smartphone game as it files two patents https://t.co/dQIHKzUxvF\n",
      "Ive made 99 videos so far this year... \n",
      "Gotta pump out a few more then wrap it all up with the 2018 Durability Awards.\n",
      "Have you been nice or naughty in 2018? https://t.co/hIBE7fEF4o\n",
      "RT @coindesk: #Bitcoin users’ ability to send transactions through outer space got a boost. https://t.co/bbGHts3Clc\n",
      "RT @BitcoinMagazine: Read about the historic sale here: https://t.co/gD1sskq43q https://t.co/TvXqjmfyYz\n",
      "Lightning micropayments could pay for the actual cost of an OpenTimestamps proof.\n",
      "\n",
      "...except the cost is just bandw… https://t.co/UYUVW0XaAg\n",
      "Tell that to the Indians re: banknote demonetization...\n",
      "\n",
      "Cash is more resistant to shutdown than most, but in the e… https://t.co/zsGywLZDn9\n",
      "RT @peterktodd: @Dieter75 As for how I'm partially responsible: I apparently convinced gmaxwell that it was a good idea, and I came up with…\n",
      "RT @kixunil: My newest #lightningnetwork project is out! I made a Joule alternative that leverages @QubesOS in order to achieve what's poss…\n",
      "Just what we need: yet another thing to give rich politicians an advantage over poor ones.\n",
      "\n",
      "I'm finding myself to r… https://t.co/yxj509fcEn\n",
      "RT @agl__: Dear lazy Twitter: anyone familiar enough with the Bulletproofs paper to know what’s up with t2 on page 26? It appears to be unu…\n",
      "RT @octal: I have to bail on #35c3 so I have a ticket available if anyone needs to buy one still.\n",
      "RT @provoost: Tl&amp;dr: PayPal and Stripe deplatformed a Patreon competitor for refusing to deplatform certain people. This might be enough fo…\n",
      "I was very excited when I realized that checkpoints might have been how they hid the fraud. But apparently there wa… https://t.co/6dNrOD1tVT\n"
     ]
    }
   ],
   "source": [
    "## test, make sure it is able to retrieve tweets from your acc.\n",
    "api = api = tweepy.API(auth)\n",
    "public_tweets = api.home_timeline()\n",
    "for tweet in public_tweets:\n",
    "    print(tweet.text)"
   ]
  },
  {
   "cell_type": "code",
   "execution_count": 101,
   "metadata": {},
   "outputs": [],
   "source": [
    "## getting location\n",
    "import requests"
   ]
  },
  {
   "cell_type": "code",
   "execution_count": 102,
   "metadata": {},
   "outputs": [],
   "source": [
    "res = requests.get('https://ipinfo.io/')\n",
    "res_json = res.json()\n",
    "coords = res_json['loc'].split(',')\n"
   ]
  },
  {
   "cell_type": "code",
   "execution_count": 103,
   "metadata": {},
   "outputs": [],
   "source": [
    "text = api.trends_closest(coords[0],coords[1])"
   ]
  },
  {
   "cell_type": "code",
   "execution_count": 104,
   "metadata": {},
   "outputs": [
    {
     "name": "stdout",
     "output_type": "stream",
     "text": [
      "[{'name': 'Mumbai', 'placeType': {'code': 7, 'name': 'Town'}, 'url': 'http://where.yahooapis.com/v1/place/2295411', 'parentid': 23424848, 'country': 'India', 'woeid': 2295411, 'countryCode': 'IN'}]\n"
     ]
    }
   ],
   "source": [
    "print(text)"
   ]
  },
  {
   "cell_type": "code",
   "execution_count": 105,
   "metadata": {},
   "outputs": [],
   "source": [
    "pid = text[0]['woeid']"
   ]
  },
  {
   "cell_type": "code",
   "execution_count": 108,
   "metadata": {},
   "outputs": [
    {
     "name": "stdout",
     "output_type": "stream",
     "text": [
      "#GSTCouncilMeet\n"
     ]
    }
   ],
   "source": [
    "query = api.trends_place(pid)[0]['trends'][2]['name']\n",
    "print(query)"
   ]
  },
  {
   "cell_type": "code",
   "execution_count": 109,
   "metadata": {},
   "outputs": [
    {
     "name": "stdout",
     "output_type": "stream",
     "text": [
      "शनिवार को हुई जीएसटी काउंसिल की बैठक में केंद्र सरकार ने सामान्य जन के उपयोग की 23 जरूरी वस्तुओं की जीएसटी दर घटाने… https://t.co/1MQR2JAXYW\n",
      "\n",
      "Heartfelt thanks to PM @narendramodi ji &amp; FM @arunjaitley ji for lowering GST on 40 items.\n",
      "\n",
      "This will benefit the c… https://t.co/0qCq52ySpk\n",
      "\n",
      "मुझे पूर्ण विश्वास है कि केंद्र सरकार के इस फैसले से आम जन को लाभ मिलेगा, साथ ही देश की अर्थव्यवस्था भी मजबूत होगी। #GSTCouncilMeet\n",
      "\n",
      "जीएसटी काउंसिल की बैठक में देशवासियों को मोदी सरकार ने बड़ी राहत देते हुए कुल 33 वस्तुओं पर जीएसटी दर को घटाया है।… https://t.co/Db2hTSpYKt\n",
      "\n",
      "A big thank you to PM @NarendraModi and FM @ArunJaitley for another decision to benefit the common man and give a b… https://t.co/7vstahay8C\n",
      "\n",
      "#GST rate has been slashed on 23 common use items. Thanks to our PM Shri @narendramodi ji and FM Shri @arunjaitley… https://t.co/IDztKgMxLC\n",
      "\n",
      "मैं प्रधानमंत्री @narendramodi जी और वित्तीय मंत्री @arunjaitley जी को धन्यवाद देना चाहता हूँ कि उन्होनें 23 वस्तु… https://t.co/qfEKy5UIgG\n",
      "\n",
      "#GST on 33 items reduced from 18% to 12% &amp; 5%.\n",
      "\n",
      "@RahulGandhi has always asserted that the exhorbitant GST rates mus… https://t.co/FbhU6rPjc4\n",
      "\n",
      "I welcome the decision of #GSTCouncilMeet to reduce tax rates on 23 goods and services. \n",
      "\n",
      "I thank and congratulate… https://t.co/2L1ZY9bVri\n",
      "\n",
      "With these latest cuts in #GST, our Govt has reduced rates on nearly 360 items since the introduction of GST which… https://t.co/hn8oyVi3Cn\n",
      "\n",
      "The Film industry wholeheartedly welcomes centre’s decision to reduce #GST on cinema tickets, exceeding 100 rupees… https://t.co/mifrs12noB\n",
      "\n",
      "Welcome the latest amendments in #GSTCouncilMeet. New tax rates will reduce cost to consumers, increase their purch… https://t.co/1feolywfZq\n",
      "\n",
      "#GSTCouncilMeet | Opposition-ruled states oppose GST rate cuts citing revenue consideration\n",
      "https://t.co/JDDd66LbaP https://t.co/PycCWoKUIQ\n",
      "\n",
      "आज \"GST Council meeting\" में लिए गए निर्णयों के तहत अब GST का 28% स्लैब 28 लक्जरी आइटम्स पर ही लागू होगा। 33 आइटम्स… https://t.co/mxqRQnWJFL\n",
      "\n",
      "Revenue Secretary to @CNBCTV18Live First 9 months GST shortfall is of about 60,000-70,000cr #GSTCouncilMeet @CNBCTV18News\n",
      "\n",
      "Signifcant decision #GSTCouncilMeet Good news for both cinema goers and #IndianFilmIndustry Movie tickets upto Rs.… https://t.co/JRyqqbFWfY\n",
      "\n",
      "#GSTCouncilMeet : Except 34 luxury items, all other will be now in 18%, 12% and 5% tax slabs\n",
      "https://t.co/iVxGKKpIDH https://t.co/2g1xs698Jf\n",
      "\n",
      "Breaking News: Congress Oppose Slashing 28% Rate Slab; Officials From 3 Congress States Tell #GSTCouncil Leadership… https://t.co/uUe6iqWonY\n",
      "\n",
      "FM @arunjaitley about 60 Policy decisions taken in the shape of clarifications by the #GSTCouncilMeet ; new GST ret… https://t.co/aMjFzQI0n3\n",
      "\n",
      "#GSTCouncilMeet : Except 34 luxury items, all other will be now in 18%, 12% and 5% tax slabs \n",
      "https://t.co/Jr3vZL9zOi\n",
      "\n"
     ]
    }
   ],
   "source": [
    "tweets = [tweet._json for tweet in tweepy.Cursor(api.search, q = query, result_type = \"popular\").items(20)]\n",
    "for tweet in tweets:\n",
    "    print(tweet['text']+\"\\n\")"
   ]
  },
  {
   "cell_type": "code",
   "execution_count": null,
   "metadata": {},
   "outputs": [],
   "source": []
  }
 ],
 "metadata": {
  "kernelspec": {
   "display_name": "Python 3",
   "language": "python",
   "name": "python3"
  },
  "language_info": {
   "codemirror_mode": {
    "name": "ipython",
    "version": 3
   },
   "file_extension": ".py",
   "mimetype": "text/x-python",
   "name": "python",
   "nbconvert_exporter": "python",
   "pygments_lexer": "ipython3",
   "version": "3.6.5"
  }
 },
 "nbformat": 4,
 "nbformat_minor": 2
}
