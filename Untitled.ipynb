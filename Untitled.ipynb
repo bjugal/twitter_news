{
 "cells": [
  {
   "cell_type": "code",
   "execution_count": 86,
   "metadata": {},
   "outputs": [],
   "source": [
    "## import tweepy, if it not installed try ! pip install tweepy\n",
    "import tweepy"
   ]
  },
  {
   "cell_type": "code",
   "execution_count": 87,
   "metadata": {},
   "outputs": [],
   "source": [
    "## authentication routine, sets keys of our app\n",
    "consumer_key = \"AxZVY6e2rAw2jxEVxULPjvRf3\"\n",
    "consumer_secret = \"Ejg0TJIhnbJlP31k9WI4hiX5x9KcBXpm8WXMZn90pQV6S15yfi\""
   ]
  },
  {
   "cell_type": "code",
   "execution_count": 88,
   "metadata": {},
   "outputs": [],
   "source": [
    "auth = tweepy.OAuthHandler(consumer_key, consumer_secret)"
   ]
  },
  {
   "cell_type": "code",
   "execution_count": 89,
   "metadata": {},
   "outputs": [],
   "source": [
    "try:\n",
    "    redirect_url = auth.get_authorization_url()\n",
    "except tweepy.TweepError:\n",
    "    print('Error! Failed to get request token.')"
   ]
  },
  {
   "cell_type": "code",
   "execution_count": 90,
   "metadata": {},
   "outputs": [],
   "source": [
    "token = auth.request_token"
   ]
  },
  {
   "cell_type": "code",
   "execution_count": 91,
   "metadata": {},
   "outputs": [
    {
     "name": "stdout",
     "output_type": "stream",
     "text": [
      "Error! Failed to get request token.\n"
     ]
    },
    {
     "data": {
      "text/plain": [
       "True"
      ]
     },
     "execution_count": 91,
     "metadata": {},
     "output_type": "execute_result"
    }
   ],
   "source": [
    "try:\n",
    "    redirect_url = auth.get_authorization_url()\n",
    "except tweepy.TweepError:\n",
    "    print('Error! Failed to get request token.')\n",
    "## to see if url works\n",
    "import webbrowser\n",
    "webbrowser.open(redirect_url)"
   ]
  },
  {
   "cell_type": "code",
   "execution_count": 92,
   "metadata": {},
   "outputs": [],
   "source": [
    "## A new browser window will open, authorize the app, you will have to authenticate the app and copy the code, in the actual project\n",
    "## we can actually use a get request to get the code programmatically.\n",
    "code = \"1957188\"  ## paste the code here, code differs everytime if a code pre-exists feel free to replace it"
   ]
  },
  {
   "cell_type": "code",
   "execution_count": 93,
   "metadata": {},
   "outputs": [
    {
     "data": {
      "text/plain": [
       "('695867665982820352-DSBktbxxYOl8L5kVwfedawdi7witFb3',\n",
       " 'IosvP2hzcPdWsqaiyA6WE7fRiCvN1u28t6KRSpX89prFG')"
      ]
     },
     "execution_count": 93,
     "metadata": {},
     "output_type": "execute_result"
    }
   ],
   "source": [
    "auth.get_access_token(code)"
   ]
  },
  {
   "cell_type": "code",
   "execution_count": 94,
   "metadata": {},
   "outputs": [],
   "source": [
    "auth.set_access_token(auth.access_token,auth.access_token_secret)"
   ]
  },
  {
   "cell_type": "code",
   "execution_count": 95,
   "metadata": {},
   "outputs": [
    {
     "name": "stdout",
     "output_type": "stream",
     "text": [
      "AT&amp;T is now performing 5G speed tests, with not so great results https://t.co/x0MRUB0BpH\n",
      "@LinusTech This makes me so anxious\n",
      "Increasing returns as the central challenge of political economy (very long tweet storm by Glen, please read!) https://t.co/dCvGPfCEXa\n",
      "When your PC is so big that it would break just one desk 🙈 https://t.co/kOM0MXTIFz\n",
      "This is a Red 8k camera... Or at least it used to be :p https://t.co/RGyfDGhQT4\n",
      "New leaked video of the Nokia 9 PureView with its specs? https://t.co/xvi2mR6aMa\n",
      "When bubble tea is life https://t.co/zBgzUJURZ9\n",
      "🎊 Happy New Year! 🎊\n",
      "\n",
      "Thanks for counting down to 2019 with us. Here's one final #androidcountdown for good luck. Le… https://t.co/aARFE0vsID\n",
      "RT @planet4589: The wavefront from New Horizons' post-flyby \"I'm OK\" message is now  crossing the asteroid belt and will reach Earth in abo…\n",
      "RT @opentimestamps: Before you trust a timestamp, make sure you fully understand this exploit:\n",
      "\n",
      "https://t.co/czX6XOZRwl\n",
      "Today is the 10-year anniversary of my first ever upload to the internet. https://t.co/3QYgKh6qSe\n",
      "Standard \"timestamping is not enough\" warnings aside (@nic__carter is well aware) this is a really cool article and… https://t.co/0kiJWYZmbv\n",
      "Congratulations @MoSalah and Sadio Mane for making the final three. 👏⭐\n",
      "\n",
      "https://t.co/4co2zaoqYY\n",
      "Who could forget our start to 2⃣0⃣1⃣8⃣... 👌\n",
      "\n",
      "#OnThisDay last year, Ragnar Klavan netted a dramatic late winner at… https://t.co/0dsYXlrs39\n",
      "new year new me https://t.co/cy8gN5rOvF\n",
      "RT @peterktodd: @AdamPaulMoore @giacomozucco Is writing fanfic a form of sexual assault? Making risque drawings of celebrities?\n",
      "\n",
      "I don't th…\n",
      "RT @hernzzzzzz: @coindesk @peterktodd @CryptoKitties @ChibiFighters Did you receive permission from the 'influencers' before using their li…\n",
      "🎶 He’s our centre half, he’s our number four 🎶 https://t.co/tL5bFYCB6z\n",
      "Dear 2019, if I'm going to be single for the whole year, just let it be. \n",
      "Just don't make me fall in love with some… https://t.co/xfa687otAA\n",
      "Here's your chance to represent the Reds in the first ever ePremier League tournament! 🎮⚽️\n",
      "\n",
      "Time is running out to sign up👇\n"
     ]
    }
   ],
   "source": [
    "## test, make sure it is able to retrieve tweets from your acc.\n",
    "api = api = tweepy.API(auth)\n",
    "public_tweets = api.home_timeline()\n",
    "for tweet in public_tweets:\n",
    "    print(tweet.text)"
   ]
  },
  {
   "cell_type": "code",
   "execution_count": 96,
   "metadata": {},
   "outputs": [],
   "source": [
    "## getting location\n",
    "import requests"
   ]
  },
  {
   "cell_type": "code",
   "execution_count": 97,
   "metadata": {},
   "outputs": [],
   "source": [
    "res = requests.get('https://ipinfo.io/')\n",
    "res_json = res.json()\n",
    "coords = res_json['loc'].split(',')\n"
   ]
  },
  {
   "cell_type": "code",
   "execution_count": 98,
   "metadata": {},
   "outputs": [],
   "source": [
    "text = api.trends_closest(coords[0],coords[1])"
   ]
  },
  {
   "cell_type": "code",
   "execution_count": 99,
   "metadata": {},
   "outputs": [
    {
     "name": "stdout",
     "output_type": "stream",
     "text": [
      "[{'name': 'Mumbai', 'placeType': {'code': 7, 'name': 'Town'}, 'url': 'http://where.yahooapis.com/v1/place/2295411', 'parentid': 23424848, 'country': 'India', 'woeid': 2295411, 'countryCode': 'IN'}]\n"
     ]
    }
   ],
   "source": [
    "print(text)"
   ]
  },
  {
   "cell_type": "code",
   "execution_count": 100,
   "metadata": {},
   "outputs": [],
   "source": [
    "pid = text[0]['woeid']"
   ]
  },
  {
   "cell_type": "code",
   "execution_count": 108,
   "metadata": {},
   "outputs": [
    {
     "name": "stdout",
     "output_type": "stream",
     "text": [
      "#GSTCouncilMeet\n"
     ]
    }
   ],
   "source": [
    "query = api.trends_place(pid)[0]['trends'][2]['name']\n",
    "print(query)"
   ]
  },
  {
   "cell_type": "code",
   "execution_count": 110,
   "metadata": {},
   "outputs": [
    {
     "name": "stdout",
     "output_type": "stream",
     "text": [
      "[{'name': '#Modi2019Interview', 'url': 'http://twitter.com/search?q=%23Modi2019Interview', 'promoted_content': None, 'query': '%23Modi2019Interview', 'tweet_volume': 41403}, {'name': '#4YearsOfNITIAayog', 'url': 'http://twitter.com/search?q=%234YearsOfNITIAayog', 'promoted_content': None, 'query': '%234YearsOfNITIAayog', 'tweet_volume': None}, {'name': '#ARSFUL', 'url': 'http://twitter.com/search?q=%23ARSFUL', 'promoted_content': None, 'query': '%23ARSFUL', 'tweet_volume': 37494}, {'name': '#VanithaMathil', 'url': 'http://twitter.com/search?q=%23VanithaMathil', 'promoted_content': None, 'query': '%23VanithaMathil', 'tweet_volume': None}, {'name': 'Aadhaar Act', 'url': 'http://twitter.com/search?q=%22Aadhaar+Act%22', 'promoted_content': None, 'query': '%22Aadhaar+Act%22', 'tweet_volume': None}, {'name': '#Allahabad', 'url': 'http://twitter.com/search?q=%23Allahabad', 'promoted_content': None, 'query': '%23Allahabad', 'tweet_volume': None}, {'name': 'Rs 120.50', 'url': 'http://twitter.com/search?q=%22Rs+120.50%22', 'promoted_content': None, 'query': '%22Rs+120.50%22', 'tweet_volume': None}, {'name': '#HYDvNEW', 'url': 'http://twitter.com/search?q=%23HYDvNEW', 'promoted_content': None, 'query': '%23HYDvNEW', 'tweet_volume': None}, {'name': '#JaiBharatDebate', 'url': 'http://twitter.com/search?q=%23JaiBharatDebate', 'promoted_content': None, 'query': '%23JaiBharatDebate', 'tweet_volume': None}, {'name': '#SydneyTest', 'url': 'http://twitter.com/search?q=%23SydneyTest', 'promoted_content': None, 'query': '%23SydneyTest', 'tweet_volume': None}, {'name': '#KaderKhan', 'url': 'http://twitter.com/search?q=%23KaderKhan', 'promoted_content': None, 'query': '%23KaderKhan', 'tweet_volume': 44138}, {'name': '#Kaappaan', 'url': 'http://twitter.com/search?q=%23Kaappaan', 'promoted_content': None, 'query': '%23Kaappaan', 'tweet_volume': 198601}, {'name': '#GullyBoy', 'url': 'http://twitter.com/search?q=%23GullyBoy', 'promoted_content': None, 'query': '%23GullyBoy', 'tweet_volume': None}, {'name': '#newyearwithbergerpaints', 'url': 'http://twitter.com/search?q=%23newyearwithbergerpaints', 'promoted_content': None, 'query': '%23newyearwithbergerpaints', 'tweet_volume': None}, {'name': '#SarvamThaalaMayam', 'url': 'http://twitter.com/search?q=%23SarvamThaalaMayam', 'promoted_content': None, 'query': '%23SarvamThaalaMayam', 'tweet_volume': None}, {'name': '#mondaymotivation', 'url': 'http://twitter.com/search?q=%23mondaymotivation', 'promoted_content': None, 'query': '%23mondaymotivation', 'tweet_volume': 32014}, {'name': '#BhimaKoregaon', 'url': 'http://twitter.com/search?q=%23BhimaKoregaon', 'promoted_content': None, 'query': '%23BhimaKoregaon', 'tweet_volume': None}, {'name': '#Airaa', 'url': 'http://twitter.com/search?q=%23Airaa', 'promoted_content': None, 'query': '%23Airaa', 'tweet_volume': None}, {'name': '#ThirumanamMotionposter', 'url': 'http://twitter.com/search?q=%23ThirumanamMotionposter', 'promoted_content': None, 'query': '%23ThirumanamMotionposter', 'tweet_volume': None}, {'name': '#HopmanCup', 'url': 'http://twitter.com/search?q=%23HopmanCup', 'promoted_content': None, 'query': '%23HopmanCup', 'tweet_volume': 13146}, {'name': '#SajjanKumar', 'url': 'http://twitter.com/search?q=%23SajjanKumar', 'promoted_content': None, 'query': '%23SajjanKumar', 'tweet_volume': None}, {'name': '#MyFitStart', 'url': 'http://twitter.com/search?q=%23MyFitStart', 'promoted_content': None, 'query': '%23MyFitStart', 'tweet_volume': None}, {'name': '#Maaniik', 'url': 'http://twitter.com/search?q=%23Maaniik', 'promoted_content': None, 'query': '%23Maaniik', 'tweet_volume': None}, {'name': '#Kalki', 'url': 'http://twitter.com/search?q=%23Kalki', 'promoted_content': None, 'query': '%23Kalki', 'tweet_volume': None}, {'name': '#HappyBirthdayVidyaBalan', 'url': 'http://twitter.com/search?q=%23HappyBirthdayVidyaBalan', 'promoted_content': None, 'query': '%23HappyBirthdayVidyaBalan', 'tweet_volume': None}, {'name': '#WelcomeThe100thBirthMonth', 'url': 'http://twitter.com/search?q=%23WelcomeThe100thBirthMonth', 'promoted_content': None, 'query': '%23WelcomeThe100thBirthMonth', 'tweet_volume': 24618}]\n"
     ]
    }
   ],
   "source": [
    "query = api.trends_place(pid)[0]['trends']\n",
    "print(query)"
   ]
  },
  {
   "cell_type": "code",
   "execution_count": 114,
   "metadata": {},
   "outputs": [
    {
     "name": "stdout",
     "output_type": "stream",
     "text": [
      "#Modi2019Interview\n",
      "#4YearsOfNITIAayog\n",
      "#ARSFUL\n",
      "#VanithaMathil\n",
      "Aadhaar Act\n",
      "#Allahabad\n",
      "Rs 120.50\n",
      "#HYDvNEW\n",
      "#JaiBharatDebate\n",
      "#SydneyTest\n",
      "#KaderKhan\n",
      "#Kaappaan\n",
      "#GullyBoy\n",
      "#newyearwithbergerpaints\n",
      "#SarvamThaalaMayam\n",
      "#mondaymotivation\n",
      "#BhimaKoregaon\n",
      "#Airaa\n",
      "#ThirumanamMotionposter\n",
      "#HopmanCup\n",
      "#SajjanKumar\n",
      "#MyFitStart\n",
      "#Maaniik\n",
      "#Kalki\n",
      "#HappyBirthdayVidyaBalan\n",
      "#WelcomeThe100thBirthMonth\n"
     ]
    }
   ],
   "source": [
    "hashtags = api.trends_place(pid)[0]['trends']\n",
    "for tag in range(len(hashtags)):\n",
    "    print(hashtags[tag]['name'])\n",
    "    "
   ]
  },
  {
   "cell_type": "code",
   "execution_count": 109,
   "metadata": {},
   "outputs": [
    {
     "name": "stdout",
     "output_type": "stream",
     "text": [
      "शनिवार को हुई जीएसटी काउंसिल की बैठक में केंद्र सरकार ने सामान्य जन के उपयोग की 23 जरूरी वस्तुओं की जीएसटी दर घटाने… https://t.co/1MQR2JAXYW\n",
      "\n",
      "Heartfelt thanks to PM @narendramodi ji &amp; FM @arunjaitley ji for lowering GST on 40 items.\n",
      "\n",
      "This will benefit the c… https://t.co/0qCq52ySpk\n",
      "\n",
      "मुझे पूर्ण विश्वास है कि केंद्र सरकार के इस फैसले से आम जन को लाभ मिलेगा, साथ ही देश की अर्थव्यवस्था भी मजबूत होगी। #GSTCouncilMeet\n",
      "\n",
      "जीएसटी काउंसिल की बैठक में देशवासियों को मोदी सरकार ने बड़ी राहत देते हुए कुल 33 वस्तुओं पर जीएसटी दर को घटाया है।… https://t.co/Db2hTSpYKt\n",
      "\n",
      "A big thank you to PM @NarendraModi and FM @ArunJaitley for another decision to benefit the common man and give a b… https://t.co/7vstahay8C\n",
      "\n",
      "#GST rate has been slashed on 23 common use items. Thanks to our PM Shri @narendramodi ji and FM Shri @arunjaitley… https://t.co/IDztKgMxLC\n",
      "\n",
      "मैं प्रधानमंत्री @narendramodi जी और वित्तीय मंत्री @arunjaitley जी को धन्यवाद देना चाहता हूँ कि उन्होनें 23 वस्तु… https://t.co/qfEKy5UIgG\n",
      "\n",
      "#GST on 33 items reduced from 18% to 12% &amp; 5%.\n",
      "\n",
      "@RahulGandhi has always asserted that the exhorbitant GST rates mus… https://t.co/FbhU6rPjc4\n",
      "\n",
      "I welcome the decision of #GSTCouncilMeet to reduce tax rates on 23 goods and services. \n",
      "\n",
      "I thank and congratulate… https://t.co/2L1ZY9bVri\n",
      "\n",
      "With these latest cuts in #GST, our Govt has reduced rates on nearly 360 items since the introduction of GST which… https://t.co/hn8oyVi3Cn\n",
      "\n",
      "The Film industry wholeheartedly welcomes centre’s decision to reduce #GST on cinema tickets, exceeding 100 rupees… https://t.co/mifrs12noB\n",
      "\n",
      "Welcome the latest amendments in #GSTCouncilMeet. New tax rates will reduce cost to consumers, increase their purch… https://t.co/1feolywfZq\n",
      "\n",
      "#GSTCouncilMeet | Opposition-ruled states oppose GST rate cuts citing revenue consideration\n",
      "https://t.co/JDDd66LbaP https://t.co/PycCWoKUIQ\n",
      "\n",
      "आज \"GST Council meeting\" में लिए गए निर्णयों के तहत अब GST का 28% स्लैब 28 लक्जरी आइटम्स पर ही लागू होगा। 33 आइटम्स… https://t.co/mxqRQnWJFL\n",
      "\n",
      "Revenue Secretary to @CNBCTV18Live First 9 months GST shortfall is of about 60,000-70,000cr #GSTCouncilMeet @CNBCTV18News\n",
      "\n",
      "Signifcant decision #GSTCouncilMeet Good news for both cinema goers and #IndianFilmIndustry Movie tickets upto Rs.… https://t.co/JRyqqbFWfY\n",
      "\n",
      "#GSTCouncilMeet : Except 34 luxury items, all other will be now in 18%, 12% and 5% tax slabs\n",
      "https://t.co/iVxGKKpIDH https://t.co/2g1xs698Jf\n",
      "\n",
      "Breaking News: Congress Oppose Slashing 28% Rate Slab; Officials From 3 Congress States Tell #GSTCouncil Leadership… https://t.co/uUe6iqWonY\n",
      "\n",
      "FM @arunjaitley about 60 Policy decisions taken in the shape of clarifications by the #GSTCouncilMeet ; new GST ret… https://t.co/aMjFzQI0n3\n",
      "\n",
      "#GSTCouncilMeet : Except 34 luxury items, all other will be now in 18%, 12% and 5% tax slabs \n",
      "https://t.co/Jr3vZL9zOi\n",
      "\n"
     ]
    }
   ],
   "source": [
    "tweets = [tweet._json for tweet in tweepy.Cursor(api.search, q = query, result_type = \"popular\").items(20)]\n",
    "for tweet in tweets:\n",
    "    print(tweet['text']+\"\\n\")"
   ]
  },
  {
   "cell_type": "code",
   "execution_count": null,
   "metadata": {},
   "outputs": [],
   "source": []
  }
 ],
 "metadata": {
  "kernelspec": {
   "display_name": "Python 3",
   "language": "python",
   "name": "python3"
  },
  "language_info": {
   "codemirror_mode": {
    "name": "ipython",
    "version": 3
   },
   "file_extension": ".py",
   "mimetype": "text/x-python",
   "name": "python",
   "nbconvert_exporter": "python",
   "pygments_lexer": "ipython3",
   "version": "3.6.5"
  }
 },
 "nbformat": 4,
 "nbformat_minor": 2
}
